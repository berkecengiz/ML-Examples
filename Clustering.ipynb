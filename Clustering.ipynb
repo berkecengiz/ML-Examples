{
  "nbformat": 4,
  "nbformat_minor": 0,
  "metadata": {
    "colab": {
      "name": "Clustering.ipynb",
      "provenance": [],
      "collapsed_sections": [],
      "include_colab_link": true
    },
    "kernelspec": {
      "name": "python3",
      "display_name": "Python 3"
    },
    "language_info": {
      "name": "python"
    }
  },
  "cells": [
    {
      "cell_type": "markdown",
      "metadata": {
        "id": "view-in-github",
        "colab_type": "text"
      },
      "source": [
        "<a href=\"https://colab.research.google.com/github/berkecengiz/ML-Examples/blob/main/Clustering.ipynb\" target=\"_parent\"><img src=\"https://colab.research.google.com/assets/colab-badge.svg\" alt=\"Open In Colab\"/></a>"
      ]
    },
    {
      "cell_type": "markdown",
      "source": [
        "# **Clustering**"
      ],
      "metadata": {
        "id": "s1bPpwAM8t5w"
      }
    },
    {
      "cell_type": "markdown",
      "source": [
        "Some explanation here."
      ],
      "metadata": {
        "id": "7XNJdS3pGOVd"
      }
    },
    {
      "cell_type": "markdown",
      "source": [
        "***Importing Necessary Libraries***"
      ],
      "metadata": {
        "id": "A4Lg8SWgrdty"
      }
    },
    {
      "cell_type": "code",
      "metadata": {
        "id": "EEht0lsKJjor"
      },
      "source": [
        "import os\n",
        "import numpy as np\n",
        "from matplotlib import pyplot\n",
        "import pandas as pd \n",
        "from sklearn.cluster import KMeans\n",
        "from sklearn.preprocessing import LabelEncoder\n",
        "from sklearn.preprocessing import MinMaxScaler\n",
        "import seaborn as sns\n",
        "import matplotlib.pyplot as plt\n",
        "%matplotlib inline"
      ],
      "execution_count": 1,
      "outputs": []
    },
    {
      "cell_type": "markdown",
      "metadata": {
        "id": "nqJ0tnbuJjot"
      },
      "source": [
        "***Loading the dataset and Pre Processing***"
      ]
    },
    {
      "cell_type": "code",
      "metadata": {
        "id": "77K_X_jgQIic",
        "colab": {
          "base_uri": "https://localhost:8080/"
        },
        "outputId": "06a88cdc-075e-4ddd-aed6-509d2c45d2d5"
      },
      "source": [
        "from google.colab import drive\n",
        "drive.mount('/content/drive')"
      ],
      "execution_count": 2,
      "outputs": [
        {
          "output_type": "stream",
          "name": "stdout",
          "text": [
            "Drive already mounted at /content/drive; to attempt to forcibly remount, call drive.mount(\"/content/drive\", force_remount=True).\n"
          ]
        }
      ]
    },
    {
      "cell_type": "markdown",
      "source": [
        "***Independent and Dependent Variables***"
      ],
      "metadata": {
        "id": "3zCc02IqrMRY"
      }
    },
    {
      "cell_type": "code",
      "metadata": {
        "id": "-jnqzTp-Jjou"
      },
      "source": [
        "data = pd.read_csv(\"/content/drive/MyDrive/heart_failure_clinical_records_dataset.csv\")\n",
        "\n",
        "# Independent variables\n",
        "X = data [['age','anaemia','creatinine_phosphokinase','diabetes','ejection_fraction','high_blood_pressure','platelets','serum_creatinine','serum_sodium','sex','smoking','time']]\n",
        "# Dependent Variable\n",
        "Y = data['DEATH_EVENT']"
      ],
      "execution_count": 3,
      "outputs": []
    },
    {
      "cell_type": "markdown",
      "source": [
        "### **Modeling and Predicting**\n",
        "\n",
        "Passenger data will be clustred into two different points, Survived - Not survived.\n",
        "\n",
        "Each clustering algorithm comes in two variants: a class, that implements the fit method to learn the *clusters* on train data, and a function, that, given train data, returns an array of integer labels corresponding to the different clusters."
      ],
      "metadata": {
        "id": "PYggBc5Zr9wt"
      }
    },
    {
      "cell_type": "code",
      "source": [
        "kmeans = KMeans(n_clusters=2)\n",
        "\n",
        "kmeans.fit(X)\n",
        "KMeans(algorithm='auto', copy_x=True, init='k-means++', max_iter=300,\n",
        "    n_clusters=2, n_init=10, \n",
        "    random_state=None, tol=0.0001, verbose=0)\n",
        "correct = 0\n",
        "X = pd.DataFrame(X).to_numpy()\n",
        "y = pd.DataFrame(Y).to_numpy()\n",
        "for i in range(len(X)):\n",
        "    predict_me = np.array(X[i].astype(float))\n",
        "    predict_me = predict_me.reshape(-1, len(predict_me))\n",
        "    prediction = kmeans.predict(predict_me)\n",
        "    if prediction[0] == y[i]:\n",
        "        correct += 1\n",
        "\n",
        "print('Accuracy = ',correct/len(X))"
      ],
      "metadata": {
        "id": "3HPHdb-cok5B",
        "colab": {
          "base_uri": "https://localhost:8080/"
        },
        "outputId": "43bf76e4-10c9-40ce-f031-0e1e64d52f26"
      },
      "execution_count": 5,
      "outputs": [
        {
          "output_type": "stream",
          "name": "stdout",
          "text": [
            "Accuracy =  0.6220735785953178\n"
          ]
        }
      ]
    }
  ]
}