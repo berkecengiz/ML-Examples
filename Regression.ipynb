{
  "nbformat": 4,
  "nbformat_minor": 0,
  "metadata": {
    "kernelspec": {
      "display_name": "Python 3",
      "language": "python",
      "name": "python3"
    },
    "language_info": {
      "codemirror_mode": {
        "name": "ipython",
        "version": 3
      },
      "file_extension": ".py",
      "mimetype": "text/x-python",
      "name": "python",
      "nbconvert_exporter": "python",
      "pygments_lexer": "ipython3",
      "version": "3.7.6"
    },
    "colab": {
      "name": "Regression.ipynb",
      "provenance": [],
      "collapsed_sections": [],
      "include_colab_link": true
    }
  },
  "cells": [
    {
      "cell_type": "markdown",
      "metadata": {
        "id": "view-in-github",
        "colab_type": "text"
      },
      "source": [
        "<a href=\"https://colab.research.google.com/github/berkecengiz/ML-Examples/blob/main/Regression.ipynb\" target=\"_parent\"><img src=\"https://colab.research.google.com/assets/colab-badge.svg\" alt=\"Open In Colab\"/></a>"
      ]
    },
    {
      "cell_type": "markdown",
      "source": [
        "# Regression"
      ],
      "metadata": {
        "id": "mbKxCxKw6OdF"
      }
    },
    {
      "cell_type": "markdown",
      "source": [
        "Some explanation here..."
      ],
      "metadata": {
        "id": "ThANVrzMGS79"
      }
    },
    {
      "cell_type": "markdown",
      "source": [
        "**`Importing Necessary Libraries`**"
      ],
      "metadata": {
        "id": "A4Lg8SWgrdty"
      }
    },
    {
      "cell_type": "code",
      "metadata": {
        "id": "EEht0lsKJjor"
      },
      "source": [
        "import os\n",
        "import numpy as np\n",
        "from matplotlib import pyplot\n",
        "import pandas as pd \n",
        "%matplotlib inline"
      ],
      "execution_count": 18,
      "outputs": []
    },
    {
      "cell_type": "markdown",
      "metadata": {
        "id": "nqJ0tnbuJjot"
      },
      "source": [
        "**Loading the dataset and Pre Processing**"
      ]
    },
    {
      "cell_type": "code",
      "metadata": {
        "colab": {
          "base_uri": "https://localhost:8080/"
        },
        "id": "77K_X_jgQIic",
        "outputId": "39dcf44b-f3c5-4f56-8eab-f89b81a97512"
      },
      "source": [
        "from google.colab import drive\n",
        "drive.mount('/content/drive')"
      ],
      "execution_count": 19,
      "outputs": [
        {
          "output_type": "stream",
          "name": "stdout",
          "text": [
            "Drive already mounted at /content/drive; to attempt to forcibly remount, call drive.mount(\"/content/drive\", force_remount=True).\n"
          ]
        }
      ]
    },
    {
      "cell_type": "markdown",
      "source": [
        "**Independent and Dependent Variables**"
      ],
      "metadata": {
        "id": "3zCc02IqrMRY"
      }
    },
    {
      "cell_type": "code",
      "metadata": {
        "id": "-jnqzTp-Jjou"
      },
      "source": [
        "data = pd.read_excel(\"/content/drive/MyDrive/Realestate.xlsx\")\n",
        "\n",
        "#Independent variables \n",
        "X = data [['X1 transaction date','X2 house age','X3 distance to the nearest MRT station','X4 number of convenience stores','X5 latitude', 'X6 longitude']]\n",
        "#Dependent Variable\n",
        "Y = data['Y house price of unit area']"
      ],
      "execution_count": 20,
      "outputs": []
    },
    {
      "cell_type": "markdown",
      "metadata": {
        "id": "hs2qwYENJjou"
      },
      "source": [
        "### **Plotting the dataset**\n"
      ]
    },
    {
      "cell_type": "code",
      "metadata": {
        "colab": {
          "base_uri": "https://localhost:8080/",
          "height": 296
        },
        "id": "mEiAgtCBJjou",
        "outputId": "93175033-92ae-4579-8fa1-e8db45d45341"
      },
      "source": [
        "pyplot.plot(X, Y, 'ro', ms=5, mec='k')\n",
        "pyplot.ylabel('House Price Of Unit area')\n",
        "pyplot.xlabel('Independent Variables ')"
      ],
      "execution_count": 21,
      "outputs": [
        {
          "output_type": "execute_result",
          "data": {
            "text/plain": [
              "Text(0.5, 0, 'Independent Variables ')"
            ]
          },
          "metadata": {},
          "execution_count": 21
        },
        {
          "output_type": "display_data",
          "data": {
            "text/plain": [
              "<Figure size 432x288 with 1 Axes>"
            ],
            "image/png": "[encoded data removed]"
          },
          "metadata": {
            "needs_background": "light"
          }
        }
      ]
    },
    {
      "cell_type": "markdown",
      "source": [
        "**Splitting the Data**"
      ],
      "metadata": {
        "id": "PYggBc5Zr9wt"
      }
    },
    {
      "cell_type": "code",
      "source": [
        "from sklearn.model_selection import train_test_split\n",
        "\n",
        "x_train, x_test, y_train, y_test = train_test_split(X, Y, test_size = 0.2, random_state = 42)"
      ],
      "metadata": {
        "id": "3HPHdb-cok5B"
      },
      "execution_count": 22,
      "outputs": []
    },
    {
      "cell_type": "markdown",
      "source": [
        "### **Applying Linear Regression Model**\n",
        "\n",
        "Now, we apply the linear regression model to our training data, first of all, we have to import linear regression from the scikit-learn library.\n",
        "\n",
        "Linear Regression : (Add some explanation here...)"
      ],
      "metadata": {
        "id": "jGPxZ4NgsEZV"
      }
    },
    {
      "cell_type": "code",
      "source": [
        "from sklearn.linear_model import LinearRegression\n",
        "\n",
        "LR = LinearRegression()\n",
        "LR.fit(x_train,y_train)\n",
        "y_prediction =  LR.predict(x_test)"
      ],
      "metadata": {
        "id": "7QOoCzTAsI_v"
      },
      "execution_count": 23,
      "outputs": []
    },
    {
      "cell_type": "markdown",
      "source": [
        "### **Implemeting r2_score Module**\n",
        "\n",
        "Metrics module, where the value of r2_score varies between 0 and 100 percent,  we can say that it is closely related to **mean squared errors.**\n",
        "\n",
        "r2 is basically calculated by the formula given below:\n",
        "\n",
        "                            formula:  r2 = 1 – (SSres /SSmean )\n",
        "\n",
        " **SSres** refers to sum of residuals, **SSmean** refers to the sum of means.\n",
        "\n",
        "***where***,\n",
        "\n",
        "\n",
        "y = original values\n",
        "\n",
        "y^ = predicted values. \n",
        "\n",
        "\n",
        "If we take calculation from this equation, then we have to know that the value of the sum of means is always greater than the sum of residuals. If this condition satisfies then our model is good for predictions. Its values range between 0.0 to 1.\n",
        "\n",
        "The best possible score is 1.0 and it can be negative because the model can be arbitrarily worse. A constant model that always predicts the expected value of y, disregarding the input features, would get an R2 score of 0.0."
      ],
      "metadata": {
        "id": "gIZ3-jPdsqZy"
      }
    },
    {
      "cell_type": "code",
      "source": [
        "from sklearn.metrics import r2_score\n",
        "from sklearn.metrics import mean_squared_error\n",
        "\n",
        "score=r2_score(y_test,y_prediction)\n",
        "print('r2 score:  ',score)\n",
        "print('mean squared error is =',mean_squared_error(y_test,y_prediction))\n",
        "print('root mean squared error of is= ',np.sqrt(mean_squared_error(y_test,y_prediction)))"
      ],
      "metadata": {
        "colab": {
          "base_uri": "https://localhost:8080/"
        },
        "id": "2312Mmwfo6th",
        "outputId": "6b9c6747-9195-4b43-d58b-fc977b2f55a4"
      },
      "execution_count": 24,
      "outputs": [
        {
          "output_type": "stream",
          "name": "stdout",
          "text": [
            "r2 score:   0.6810781244679265\n",
            "mean squared error is = 53.502252361179515\n",
            "root mean squared error of is== 7.314523385783897\n"
          ]
        }
      ]
    }
  ]
}