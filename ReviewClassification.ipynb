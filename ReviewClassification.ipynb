{
  "metadata": {
    "kernelspec": {
      "language": "python",
      "display_name": "Python 3",
      "name": "python3"
    },
    "language_info": {
      "pygments_lexer": "ipython3",
      "nbconvert_exporter": "python",
      "version": "3.6.4",
      "file_extension": ".py",
      "codemirror_mode": {
        "name": "ipython",
        "version": 3
      },
      "name": "python",
      "mimetype": "text/x-python"
    },
    "colab": {
      "name": "ReviewClassification.ipynb",
      "provenance": [],
      "collapsed_sections": [],
      "include_colab_link": true
    }
  },
  "nbformat_minor": 0,
  "nbformat": 4,
  "cells": [
    {
      "cell_type": "markdown",
      "metadata": {
        "id": "view-in-github",
        "colab_type": "text"
      },
      "source": [
        "<a href=\"https://colab.research.google.com/github/berkecengiz/ML-Examples/blob/main/ReviewClassification.ipynb\" target=\"_parent\"><img src=\"https://colab.research.google.com/assets/colab-badge.svg\" alt=\"Open In Colab\"/></a>"
      ]
    },
    {
      "cell_type": "markdown",
      "source": [
        "# **Review Classification task**\n",
        "\n",
        "> Some explanation here...\n"
      ],
      "metadata": {
        "id": "yZWceoLHwW-I"
      }
    },
    {
      "cell_type": "code",
      "source": [
        "import numpy as np  \n",
        "import pandas as pd\n",
        "import os\n",
        "import re\n",
        "import nltk\n",
        "import matplotlib.pyplot as plt\n",
        "from mlxtend.plotting import plot_confusion_matrix\n",
        "from nltk.corpus import stopwords\n",
        "from nltk.stem import WordNetLemmatizer\n",
        "from sklearn.model_selection import train_test_split\n",
        "from sklearn.svm import SVC\n",
        "from sklearn.tree import DecisionTreeClassifier\n",
        "from sklearn.ensemble import RandomForestClassifier, AdaBoostClassifier, GradientBoostingClassifier\n",
        "from sklearn.pipeline import Pipeline\n",
        "from sklearn.feature_extraction.text import TfidfVectorizer\n",
        "from sklearn.model_selection import cross_val_score, GridSearchCV\n",
        "from sklearn.metrics import classification_report,accuracy_score,precision_score,recall_score,roc_auc_score, confusion_matrix\n",
        "%matplotlib inline"
      ],
      "metadata": {
        "id": "lxrIMh6Uwao3"
      },
      "execution_count": 1,
      "outputs": []
    },
    {
      "cell_type": "markdown",
      "source": [
        "#### ***Loading*** the Dataset"
      ],
      "metadata": {
        "id": "aYNeL8yLws2g"
      }
    },
    {
      "cell_type": "code",
      "source": [
        "# Data\n",
        "input_file = \"/content/drive/MyDrive/archive/sentiment labelled sentences/sentiment labelled sentences/amazon_cells_labelled.txt\"\n",
        "amazon = pd.read_csv(input_file,delimiter='\\t',header=None, names=['review', 'sentiment'])\n",
        "amazon['source']='amazon'\n",
        "\n",
        "input_file = \"/content/drive/MyDrive/archive/sentiment labelled sentences/sentiment labelled sentences/yelp_labelled.txt\"\n",
        "yelp = pd.read_csv(input_file,delimiter='\\t',header=None, names=['review', 'sentiment'])\n",
        "yelp['source']='yelp'\n",
        "\n",
        "input_file = \"/content/drive/MyDrive/archive/sentiment labelled sentences/sentiment labelled sentences/imdb_labelled.txt\"\n",
        "imdb = pd.read_csv(input_file,delimiter='\\t',header=None, names=['review', 'sentiment'])\n",
        "imdb['source']='imdb'\n",
        "\n",
        "data = pd.DataFrame()\n",
        "data = pd.concat([amazon, yelp, imdb])\n",
        "data['sentiment'] = data['sentiment'].astype(str)"
      ],
      "metadata": {
        "trusted": true,
        "id": "cm6U6SsPwMp5"
      },
      "execution_count": 12,
      "outputs": []
    },
    {
      "cell_type": "code",
      "source": [
        "from google.colab import drive\n",
        "drive.mount('/content/drive')"
      ],
      "metadata": {
        "colab": {
          "base_uri": "https://localhost:8080/"
        },
        "id": "iFH3X96Ii4Uv",
        "outputId": "820b5a46-c4c2-4629-bd13-62291bd5a06a"
      },
      "execution_count": 13,
      "outputs": [
        {
          "output_type": "stream",
          "name": "stdout",
          "text": [
            "Drive already mounted at /content/drive; to attempt to forcibly remount, call drive.mount(\"/content/drive\", force_remount=True).\n"
          ]
        }
      ]
    },
    {
      "cell_type": "markdown",
      "source": [
        "**Variables** are defined here into two categories here (Review/Sentiment)\n"
      ],
      "metadata": {
        "id": "wxknWjkBwMp9"
      }
    },
    {
      "cell_type": "code",
      "source": [
        "# Independent variables\n",
        "review = data.iloc[:, 0].values\n",
        "\n",
        "# Dependent variable\n",
        "senti = data.iloc[:, 1].values"
      ],
      "metadata": {
        "trusted": true,
        "id": "xOp-ATHvwMp_"
      },
      "execution_count": 14,
      "outputs": []
    },
    {
      "cell_type": "markdown",
      "source": [
        "#### **Text** Pre-processing\n"
      ],
      "metadata": {
        "id": "rtLzB-s_wMqF"
      }
    },
    {
      "cell_type": "code",
      "source": [
        "processed_reviews = []\n",
        "\n",
        "for sentence in range(0, len(review)):\n",
        "    processed_rev = re.sub(r'[^\\w\\s]', ' ', str(review[sentence])) # removes special char\n",
        "    processed_rev= re.sub(r'\\s+[a-zA-Z]\\s+', ' ', processed_rev) # removes single char\n",
        "    processed_rev = re.sub(r'\\s+', ' ', processed_rev, flags=re.I) # removes multiple spacing\n",
        "    processed_rev = re.sub(r'\\d+', ' ', processed_rev) # removes numbers\n",
        "    processed_rev = processed_rev.lower()\n",
        "    processed_reviews.append(processed_rev)"
      ],
      "metadata": {
        "trusted": true,
        "id": "YRse6LsSwMqP"
      },
      "execution_count": 15,
      "outputs": []
    },
    {
      "cell_type": "code",
      "source": [
        "data_clean = pd.DataFrame(processed_reviews)\n",
        "data_clean.columns = ['reviews']\n",
        "data_clean['senti_score'] = senti\n",
        "data_clean.head()"
      ],
      "metadata": {
        "trusted": true,
        "id": "PWNRW0thwMq-",
        "colab": {
          "base_uri": "https://localhost:8080/",
          "height": 206
        },
        "outputId": "400e9d37-5d7a-4ae0-96f9-92cb6e295ed0"
      },
      "execution_count": 16,
      "outputs": [
        {
          "output_type": "execute_result",
          "data": {
            "text/plain": [
              "                                             reviews senti_score\n",
              "0  so there is no way for me to plug it in here i...           0\n",
              "1                         good case excellent value            1\n",
              "2                             great for the jawbone            1\n",
              "3  tied to charger for conversations lasting more...           0\n",
              "4                                  the mic is great            1"
            ],
            "text/html": [
              "\n",
              "  <div id=\"df-54cc9f2b-2bd2-467e-a7ae-20d42dbb5a89\">\n",
              "    <div class=\"colab-df-container\">\n",
              "      <div>\n",
              "<style scoped>\n",
              "    .dataframe tbody tr th:only-of-type {\n",
              "        vertical-align: middle;\n",
              "    }\n",
              "\n",
              "    .dataframe tbody tr th {\n",
              "        vertical-align: top;\n",
              "    }\n",
              "\n",
              "    .dataframe thead th {\n",
              "        text-align: right;\n",
              "    }\n",
              "</style>\n",
              "<table border=\"1\" class=\"dataframe\">\n",
              "  <thead>\n",
              "    <tr style=\"text-align: right;\">\n",
              "      <th></th>\n",
              "      <th>reviews</th>\n",
              "      <th>senti_score</th>\n",
              "    </tr>\n",
              "  </thead>\n",
              "  <tbody>\n",
              "    <tr>\n",
              "      <th>0</th>\n",
              "      <td>so there is no way for me to plug it in here i...</td>\n",
              "      <td>0</td>\n",
              "    </tr>\n",
              "    <tr>\n",
              "      <th>1</th>\n",
              "      <td>good case excellent value</td>\n",
              "      <td>1</td>\n",
              "    </tr>\n",
              "    <tr>\n",
              "      <th>2</th>\n",
              "      <td>great for the jawbone</td>\n",
              "      <td>1</td>\n",
              "    </tr>\n",
              "    <tr>\n",
              "      <th>3</th>\n",
              "      <td>tied to charger for conversations lasting more...</td>\n",
              "      <td>0</td>\n",
              "    </tr>\n",
              "    <tr>\n",
              "      <th>4</th>\n",
              "      <td>the mic is great</td>\n",
              "      <td>1</td>\n",
              "    </tr>\n",
              "  </tbody>\n",
              "</table>\n",
              "</div>\n",
              "      <button class=\"colab-df-convert\" onclick=\"convertToInteractive('df-54cc9f2b-2bd2-467e-a7ae-20d42dbb5a89')\"\n",
              "              title=\"Convert this dataframe to an interactive table.\"\n",
              "              style=\"display:none;\">\n",
              "        \n",
              "  <svg xmlns=\"http://www.w3.org/2000/svg\" height=\"24px\"viewBox=\"0 0 24 24\"\n",
              "       width=\"24px\">\n",
              "    <path d=\"M0 0h24v24H0V0z\" fill=\"none\"/>\n",
              "    <path d=\"M18.56 5.44l.94 2.06.94-2.06 2.06-.94-2.06-.94-.94-2.06-.94 2.06-2.06.94zm-11 1L8.5 8.5l.94-2.06 2.06-.94-2.06-.94L8.5 2.5l-.94 2.06-2.06.94zm10 10l.94 2.06.94-2.06 2.06-.94-2.06-.94-.94-2.06-.94 2.06-2.06.94z\"/><path d=\"M17.41 7.96l-1.37-1.37c-.4-.4-.92-.59-1.43-.59-.52 0-1.04.2-1.43.59L10.3 9.45l-7.72 7.72c-.78.78-.78 2.05 0 2.83L4 21.41c.39.39.9.59 1.41.59.51 0 1.02-.2 1.41-.59l7.78-7.78 2.81-2.81c.8-.78.8-2.07 0-2.86zM5.41 20L4 18.59l7.72-7.72 1.47 1.35L5.41 20z\"/>\n",
              "  </svg>\n",
              "      </button>\n",
              "      \n",
              "  <style>\n",
              "    .colab-df-container {\n",
              "      display:flex;\n",
              "      flex-wrap:wrap;\n",
              "      gap: 12px;\n",
              "    }\n",
              "\n",
              "    .colab-df-convert {\n",
              "      background-color: #E8F0FE;\n",
              "      border: none;\n",
              "      border-radius: 50%;\n",
              "      cursor: pointer;\n",
              "      display: none;\n",
              "      fill: #1967D2;\n",
              "      height: 32px;\n",
              "      padding: 0 0 0 0;\n",
              "      width: 32px;\n",
              "    }\n",
              "\n",
              "    .colab-df-convert:hover {\n",
              "      background-color: #E2EBFA;\n",
              "      box-shadow: 0px 1px 2px rgba(60, 64, 67, 0.3), 0px 1px 3px 1px rgba(60, 64, 67, 0.15);\n",
              "      fill: #174EA6;\n",
              "    }\n",
              "\n",
              "    [theme=dark] .colab-df-convert {\n",
              "      background-color: #3B4455;\n",
              "      fill: #D2E3FC;\n",
              "    }\n",
              "\n",
              "    [theme=dark] .colab-df-convert:hover {\n",
              "      background-color: #434B5C;\n",
              "      box-shadow: 0px 1px 3px 1px rgba(0, 0, 0, 0.15);\n",
              "      filter: drop-shadow(0px 1px 2px rgba(0, 0, 0, 0.3));\n",
              "      fill: #FFFFFF;\n",
              "    }\n",
              "  </style>\n",
              "\n",
              "      <script>\n",
              "        const buttonEl =\n",
              "          document.querySelector('#df-54cc9f2b-2bd2-467e-a7ae-20d42dbb5a89 button.colab-df-convert');\n",
              "        buttonEl.style.display =\n",
              "          google.colab.kernel.accessAllowed ? 'block' : 'none';\n",
              "\n",
              "        async function convertToInteractive(key) {\n",
              "          const element = document.querySelector('#df-54cc9f2b-2bd2-467e-a7ae-20d42dbb5a89');\n",
              "          const dataTable =\n",
              "            await google.colab.kernel.invokeFunction('convertToInteractive',\n",
              "                                                     [key], {});\n",
              "          if (!dataTable) return;\n",
              "\n",
              "          const docLinkHtml = 'Like what you see? Visit the ' +\n",
              "            '<a target=\"_blank\" href=https://colab.research.google.com/notebooks/data_table.ipynb>data table notebook</a>'\n",
              "            + ' to learn more about interactive tables.';\n",
              "          element.innerHTML = '';\n",
              "          dataTable['output_type'] = 'display_data';\n",
              "          await google.colab.output.renderOutput(dataTable, element);\n",
              "          const docLink = document.createElement('div');\n",
              "          docLink.innerHTML = docLinkHtml;\n",
              "          element.appendChild(docLink);\n",
              "        }\n",
              "      </script>\n",
              "    </div>\n",
              "  </div>\n",
              "  "
            ]
          },
          "metadata": {},
          "execution_count": 16
        }
      ]
    },
    {
      "cell_type": "markdown",
      "source": [
        "#### **Train-Test Split:**\n",
        "\n",
        "Splitting data into train and test datasets\n",
        "\n",
        "\n"
      ],
      "metadata": {
        "id": "Rt3xF1j0wMrG"
      }
    },
    {
      "cell_type": "code",
      "source": [
        "X_train, X_test, y_train, y_test = train_test_split(data_clean['reviews'], data_clean['senti_score'], \n",
        "                                                    test_size=0.2, random_state=0)"
      ],
      "metadata": {
        "trusted": true,
        "id": "CCzrdAMnwMrI"
      },
      "execution_count": 17,
      "outputs": []
    },
    {
      "cell_type": "markdown",
      "source": [
        "### **Extracting features from text data (using Tfidf Vectorizer) and Model Building**\n"
      ],
      "metadata": {
        "id": "zf4OCymswMrN"
      }
    },
    {
      "cell_type": "markdown",
      "source": [
        "\n",
        "Here, I trained different classification models with train data set and evaluated them based on their training **Accuracy** and **ROC** values. To avoid overfitting, And compared their average scores in order the test their efficency. "
      ],
      "metadata": {
        "id": "cy0SkI67wMrS"
      }
    },
    {
      "cell_type": "code",
      "source": [
        "DTC = Pipeline([\n",
        "        (\"tfidf_vectorizer\", TfidfVectorizer(stop_words=\"english\")),\n",
        "        (\"dtc\", DecisionTreeClassifier(random_state=0))\n",
        "    ])\n",
        "\n",
        "GBC = Pipeline([\n",
        "        (\"tfidf_vectorizer\", TfidfVectorizer(stop_words=\"english\")),\n",
        "        (\"dtc\", GradientBoostingClassifier(random_state=0))\n",
        "    ])\n",
        "\n",
        "RFC = Pipeline([\n",
        "        (\"tfidf_vectorizer\", TfidfVectorizer(stop_words=\"english\")),\n",
        "        (\"rfc\", RandomForestClassifier(random_state=0))\n",
        "    ])\n",
        "\n",
        "all_models = [\n",
        "    (\"DecissionTree\", DTC),\n",
        "    (\"GradientBoosting\", GBC),\n",
        "    (\"RandomForest\", RFC),\n",
        "    ]\n",
        " \n",
        "unsorted_scores = [(name, cross_val_score(model, X_train, y_train, cv=3, scoring='roc_auc').mean()) for name, model in all_models]\n",
        "scores = pd.DataFrame(unsorted_scores, columns=['ML Model', 'roc_auc Score'])\n",
        "\n",
        "unsorted_scores = [(name, cross_val_score(model, X_train, y_train, cv=3, scoring='recall_macro').mean()) for name, model in all_models]\n",
        "scores_recall = pd.DataFrame(unsorted_scores, columns=['ML Model', 'recall Score'])\n",
        "scores['Recall Score'] = scores_recall['recall Score']\n",
        "\n",
        "unsorted_scores = [(name, cross_val_score(model, X_train, y_train, cv=3, scoring='precision_macro').mean()) for name, model in all_models]\n",
        "scores_pre = pd.DataFrame(unsorted_scores, columns=['ML Model', 'Pre Score'])\n",
        "scores['Precision Score'] = scores_pre['Pre Score']\n",
        "\n",
        "unsorted_scores = [(name, cross_val_score(model, X_train, y_train, cv=3).mean()) for name, model in all_models]\n",
        "scores_acc = pd.DataFrame(unsorted_scores, columns=['ML Model', 'Acc Score'])\n",
        "scores['Accuracy Score'] = scores_acc['Acc Score']\n",
        "\n",
        "scores.head()"
      ],
      "metadata": {
        "trusted": true,
        "id": "wesCQliMwMrU",
        "colab": {
          "base_uri": "https://localhost:8080/",
          "height": 143
        },
        "outputId": "f10f2375-aba0-4c04-8302-698e798e4ef5"
      },
      "execution_count": 18,
      "outputs": [
        {
          "output_type": "execute_result",
          "data": {
            "text/plain": [
              "           ML Model  roc_auc Score  Recall Score  Precision Score  \\\n",
              "0     DecissionTree       0.745000      0.715558         0.720009   \n",
              "1  GradientBoosting       0.809020      0.742165         0.770195   \n",
              "2      RandomForest       0.829389      0.746270         0.750941   \n",
              "\n",
              "   Accuracy Score  \n",
              "0        0.715654  \n",
              "1        0.741130  \n",
              "2        0.746134  "
            ],
            "text/html": [
              "\n",
              "  <div id=\"df-47cdf1f3-c83f-420e-9e7f-34637f36a5ca\">\n",
              "    <div class=\"colab-df-container\">\n",
              "      <div>\n",
              "<style scoped>\n",
              "    .dataframe tbody tr th:only-of-type {\n",
              "        vertical-align: middle;\n",
              "    }\n",
              "\n",
              "    .dataframe tbody tr th {\n",
              "        vertical-align: top;\n",
              "    }\n",
              "\n",
              "    .dataframe thead th {\n",
              "        text-align: right;\n",
              "    }\n",
              "</style>\n",
              "<table border=\"1\" class=\"dataframe\">\n",
              "  <thead>\n",
              "    <tr style=\"text-align: right;\">\n",
              "      <th></th>\n",
              "      <th>ML Model</th>\n",
              "      <th>roc_auc Score</th>\n",
              "      <th>Recall Score</th>\n",
              "      <th>Precision Score</th>\n",
              "      <th>Accuracy Score</th>\n",
              "    </tr>\n",
              "  </thead>\n",
              "  <tbody>\n",
              "    <tr>\n",
              "      <th>0</th>\n",
              "      <td>DecissionTree</td>\n",
              "      <td>0.745000</td>\n",
              "      <td>0.715558</td>\n",
              "      <td>0.720009</td>\n",
              "      <td>0.715654</td>\n",
              "    </tr>\n",
              "    <tr>\n",
              "      <th>1</th>\n",
              "      <td>GradientBoosting</td>\n",
              "      <td>0.809020</td>\n",
              "      <td>0.742165</td>\n",
              "      <td>0.770195</td>\n",
              "      <td>0.741130</td>\n",
              "    </tr>\n",
              "    <tr>\n",
              "      <th>2</th>\n",
              "      <td>RandomForest</td>\n",
              "      <td>0.829389</td>\n",
              "      <td>0.746270</td>\n",
              "      <td>0.750941</td>\n",
              "      <td>0.746134</td>\n",
              "    </tr>\n",
              "  </tbody>\n",
              "</table>\n",
              "</div>\n",
              "      <button class=\"colab-df-convert\" onclick=\"convertToInteractive('df-47cdf1f3-c83f-420e-9e7f-34637f36a5ca')\"\n",
              "              title=\"Convert this dataframe to an interactive table.\"\n",
              "              style=\"display:none;\">\n",
              "        \n",
              "  <svg xmlns=\"http://www.w3.org/2000/svg\" height=\"24px\"viewBox=\"0 0 24 24\"\n",
              "       width=\"24px\">\n",
              "    <path d=\"M0 0h24v24H0V0z\" fill=\"none\"/>\n",
              "    <path d=\"M18.56 5.44l.94 2.06.94-2.06 2.06-.94-2.06-.94-.94-2.06-.94 2.06-2.06.94zm-11 1L8.5 8.5l.94-2.06 2.06-.94-2.06-.94L8.5 2.5l-.94 2.06-2.06.94zm10 10l.94 2.06.94-2.06 2.06-.94-2.06-.94-.94-2.06-.94 2.06-2.06.94z\"/><path d=\"M17.41 7.96l-1.37-1.37c-.4-.4-.92-.59-1.43-.59-.52 0-1.04.2-1.43.59L10.3 9.45l-7.72 7.72c-.78.78-.78 2.05 0 2.83L4 21.41c.39.39.9.59 1.41.59.51 0 1.02-.2 1.41-.59l7.78-7.78 2.81-2.81c.8-.78.8-2.07 0-2.86zM5.41 20L4 18.59l7.72-7.72 1.47 1.35L5.41 20z\"/>\n",
              "  </svg>\n",
              "      </button>\n",
              "      \n",
              "  <style>\n",
              "    .colab-df-container {\n",
              "      display:flex;\n",
              "      flex-wrap:wrap;\n",
              "      gap: 12px;\n",
              "    }\n",
              "\n",
              "    .colab-df-convert {\n",
              "      background-color: #E8F0FE;\n",
              "      border: none;\n",
              "      border-radius: 50%;\n",
              "      cursor: pointer;\n",
              "      display: none;\n",
              "      fill: #1967D2;\n",
              "      height: 32px;\n",
              "      padding: 0 0 0 0;\n",
              "      width: 32px;\n",
              "    }\n",
              "\n",
              "    .colab-df-convert:hover {\n",
              "      background-color: #E2EBFA;\n",
              "      box-shadow: 0px 1px 2px rgba(60, 64, 67, 0.3), 0px 1px 3px 1px rgba(60, 64, 67, 0.15);\n",
              "      fill: #174EA6;\n",
              "    }\n",
              "\n",
              "    [theme=dark] .colab-df-convert {\n",
              "      background-color: #3B4455;\n",
              "      fill: #D2E3FC;\n",
              "    }\n",
              "\n",
              "    [theme=dark] .colab-df-convert:hover {\n",
              "      background-color: #434B5C;\n",
              "      box-shadow: 0px 1px 3px 1px rgba(0, 0, 0, 0.15);\n",
              "      filter: drop-shadow(0px 1px 2px rgba(0, 0, 0, 0.3));\n",
              "      fill: #FFFFFF;\n",
              "    }\n",
              "  </style>\n",
              "\n",
              "      <script>\n",
              "        const buttonEl =\n",
              "          document.querySelector('#df-47cdf1f3-c83f-420e-9e7f-34637f36a5ca button.colab-df-convert');\n",
              "        buttonEl.style.display =\n",
              "          google.colab.kernel.accessAllowed ? 'block' : 'none';\n",
              "\n",
              "        async function convertToInteractive(key) {\n",
              "          const element = document.querySelector('#df-47cdf1f3-c83f-420e-9e7f-34637f36a5ca');\n",
              "          const dataTable =\n",
              "            await google.colab.kernel.invokeFunction('convertToInteractive',\n",
              "                                                     [key], {});\n",
              "          if (!dataTable) return;\n",
              "\n",
              "          const docLinkHtml = 'Like what you see? Visit the ' +\n",
              "            '<a target=\"_blank\" href=https://colab.research.google.com/notebooks/data_table.ipynb>data table notebook</a>'\n",
              "            + ' to learn more about interactive tables.';\n",
              "          element.innerHTML = '';\n",
              "          dataTable['output_type'] = 'display_data';\n",
              "          await google.colab.output.renderOutput(dataTable, element);\n",
              "          const docLink = document.createElement('div');\n",
              "          docLink.innerHTML = docLinkHtml;\n",
              "          element.appendChild(docLink);\n",
              "        }\n",
              "      </script>\n",
              "    </div>\n",
              "  </div>\n",
              "  "
            ]
          },
          "metadata": {},
          "execution_count": 18
        }
      ]
    },
    {
      "cell_type": "markdown",
      "source": [
        "Results shows that Random Forest classifier worked better with accuracy of around 75% "
      ],
      "metadata": {
        "id": "GRhz1B47wMrZ"
      }
    }
  ]
}